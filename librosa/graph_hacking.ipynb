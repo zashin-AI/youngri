{
 "metadata": {
  "language_info": {
   "codemirror_mode": {
    "name": "ipython",
    "version": 3
   },
   "file_extension": ".py",
   "mimetype": "text/x-python",
   "name": "python",
   "nbconvert_exporter": "python",
   "pygments_lexer": "ipython3",
   "version": "3.8.5-final"
  },
  "orig_nbformat": 2,
  "kernelspec": {
   "name": "python385jvsc74a57bd0183bbf6827d058c2a2fb0f4acdc0420849dda2b4380af0e437e38c64d798d8b7",
   "display_name": "Python 3.8.5 64-bit (conda)"
  }
 },
 "nbformat": 4,
 "nbformat_minor": 2,
 "cells": [
  {
   "cell_type": "code",
   "execution_count": 10,
   "metadata": {},
   "outputs": [],
   "source": [
    "# 1) spectogram\n",
    "# 2) Mel - spectogram\n",
    "# 3) MFCCS\n",
    "# 그래프 알아보고 공부!"
   ]
  },
  {
   "cell_type": "code",
   "execution_count": 11,
   "metadata": {},
   "outputs": [],
   "source": [
    "import librosa\n",
    "import numpy as np\n",
    "import numpy as np\n",
    "import librosa\n",
    "import matplotlib.pyplot as plt\n",
    "import librosa.display"
   ]
  },
  {
   "cell_type": "code",
   "execution_count": 14,
   "metadata": {},
   "outputs": [
    {
     "output_type": "stream",
     "name": "stdout",
     "text": [
      "len(y):  110250\nsr: 22050\n오디오의 길이(초): 5.00\n"
     ]
    }
   ],
   "source": [
    "# 음성 불러오기\n",
    "import librosa\n",
    "\n",
    "audiopath = 'C:/nmb/data/teamvoice/testvoice_영리.wav'\n",
    "\n",
    "y, sr = librosa.load(audiopath, sr=22050)\n",
    "\n",
    "print('len(y): ', len(y))\n",
    "print('sr: %d' % sr)\n",
    "print('오디오의 길이(초): %.2f' % (len(y)/sr))"
   ]
  },
  {
   "source": [
    "# 1) 2D 음파 그래프\n"
   ],
   "cell_type": "code",
   "metadata": {},
   "execution_count": 17,
   "outputs": [
    {
     "output_type": "stream",
     "name": "stdout",
     "text": [
      "len(y):  110250\nsr: 22050\n오디오의 길이(초): 5.00\n"
     ]
    }
   ]
  }
 ]
}